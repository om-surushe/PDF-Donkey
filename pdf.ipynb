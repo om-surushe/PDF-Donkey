{
 "cells": [
  {
   "cell_type": "code",
   "execution_count": 2,
   "metadata": {},
   "outputs": [],
   "source": [
    "from PIL import Image"
   ]
  },
  {
   "cell_type": "code",
   "execution_count": 3,
   "metadata": {},
   "outputs": [],
   "source": [
    "imagewebp = []\n",
    "imagepng = []\n",
    "imagelist = []\n",
    "l = int(input(\"Enter the number of pages you have: \")) # number of photos\n",
    "name = str(input(\"Name of the PDF: \")) # Name of the Pdf you want\n",
    "name = name+\".pdf\" # Name of the Pdf you want\n",
    "format1 = \".jpg\" # format in which you have the photos\n",
    "format2 = \".png\""
   ]
  },
  {
   "cell_type": "code",
   "execution_count": 4,
   "metadata": {},
   "outputs": [],
   "source": [
    "for i in range(1,l+1):\n",
    "    imagewebp.append(str(i)+format1)\n",
    "    imagepng.append(str(i)+format2)"
   ]
  },
  {
   "cell_type": "code",
   "execution_count": 5,
   "metadata": {},
   "outputs": [],
   "source": [
    "\n",
    "for i in range(len(imagewebp)):\n",
    "    im = Image.open(imagewebp[i]).convert(\"RGB\")\n",
    "    im.save(imagepng[i],\"png\")"
   ]
  },
  {
   "cell_type": "code",
   "execution_count": 6,
   "metadata": {},
   "outputs": [],
   "source": [
    "for i in range(len(imagepng)):\n",
    "    imagelist.append(Image.open(imagepng[i]))"
   ]
  },
  {
   "cell_type": "code",
   "execution_count": 7,
   "metadata": {},
   "outputs": [],
   "source": [
    "for i in range(len(imagelist)):\n",
    "    imagelist[i] = imagelist[i].convert('RGB')"
   ]
  },
  {
   "cell_type": "code",
   "execution_count": 8,
   "metadata": {},
   "outputs": [],
   "source": [
    "start = imagelist[0]\n",
    "\n",
    "imagelist = imagelist[1:]"
   ]
  },
  {
   "cell_type": "code",
   "execution_count": 9,
   "metadata": {},
   "outputs": [],
   "source": [
    "start.save(name,save_all = True,append_images=imagelist)"
   ]
  }
 ],
 "metadata": {
  "kernelspec": {
   "display_name": "Python 3.9.13 ('pdf-maker': venv)",
   "language": "python",
   "name": "python3"
  },
  "language_info": {
   "codemirror_mode": {
    "name": "ipython",
    "version": 3
   },
   "file_extension": ".py",
   "mimetype": "text/x-python",
   "name": "python",
   "nbconvert_exporter": "python",
   "pygments_lexer": "ipython3",
   "version": "3.9.13"
  },
  "orig_nbformat": 4,
  "vscode": {
   "interpreter": {
    "hash": "e291f86ce5a339d38f7bbb9ecc7e752c6c8055b05c12d551b7c58169e99d725e"
   }
  }
 },
 "nbformat": 4,
 "nbformat_minor": 2
}
